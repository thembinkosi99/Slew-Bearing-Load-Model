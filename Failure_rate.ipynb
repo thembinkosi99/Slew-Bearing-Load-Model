{
 "cells": [
  {
   "cell_type": "code",
   "execution_count": 1,
   "metadata": {},
   "outputs": [],
   "source": [
    "import numpy as np\n",
    "import scipy.stats as scistats\n",
    "import matplotlib.pyplot as plt\n",
    "from scipy import integrate"
   ]
  },
  {
   "cell_type": "code",
   "execution_count": 2,
   "metadata": {},
   "outputs": [],
   "source": [
    "def f_strength(strength, mean, std):\n",
    "    return scistats.norm.pdf(strength, mean, std) # Probability density value of strength\n",
    "\n",
    "def F_s_load(strength, mean, std):\n",
    "    return scistats.norm.cdf(strength, mean, std) # Probability that load will cause a failure\n",
    "\n",
    "# def equivalent_load(n, mean, std):\n",
    "#     return np.max(scistats.norm.rvs(mean, std, n))\n",
    "\n",
    "def fF(strength, n, mean_strength, std_strength, mean_load, std_load):\n",
    "    return f_strength(strength, mean_strength, std_strength) * F_s_load(strength, mean_load, std_load)**(n)\n",
    "\n",
    "def R_n(n,  mean_strength, std_strength, mean_load, std_load):\n",
    "    integral, answer = integrate.quad(fF, 0, mean_strength + 5 * std_strength, args=(n, mean_strength, std_strength, mean_load, std_load)) # vary strength\n",
    "    return integral\n",
    "\n",
    "def h_n(n, mean_strength, std_strength, mean_load, std_load):\n",
    "    return 1 - R_n(n+1, mean_strength, std_strength, mean_load, std_load)/R_n(n, mean_strength, std_strength, mean_load, std_load)\n",
    "\n",
    "\n",
    "\n",
    "mu_strength = 600*10**6 # Pa = 600 MPa\n",
    "std_strength = 60*10**6 # Pa = 50 MPa\n",
    "mu_load = 400*10**6 # Pa = 400 MPa\n",
    "std_load = 40*10**6 # Pa = 40 MPa\n",
    "\n",
    "n_vals = np.linspace(0,8000,100)\n",
    "\n",
    "R_n_vals = []\n",
    "h_n_vals = []\n",
    "for n in n_vals:\n",
    "    R_n_vals.append(R_n(n, mu_strength, std_strength, mu_load, std_load))\n",
    "    h_n_vals.append(h_n(n, mu_strength, std_strength, mu_load, std_load))\n",
    "\n",
    "\n",
    "\n",
    "\n",
    "\n"
   ]
  },
  {
   "cell_type": "code",
   "execution_count": 3,
   "metadata": {},
   "outputs": [
    {
     "data": {
      "image/png": "[encoded data removed]",
      "text/plain": [
       "<Figure size 432x288 with 1 Axes>"
      ]
     },
     "metadata": {
      "needs_background": "light"
     },
     "output_type": "display_data"
    }
   ],
   "source": [
    "plt.figure()\n",
    "plt.plot(n_vals, R_n_vals)\n",
    "plt.title('Figure 1 from paper')\n",
    "plt.xlabel('Number of cycles')\n",
    "plt.ylabel('Reliability (R(n))')\n",
    "plt.ylim(0.7, 1)\n",
    "# remove gap between axis and plot\n",
    "plt.margins(0)"
   ]
  },
  {
   "cell_type": "code",
   "execution_count": 4,
   "metadata": {},
   "outputs": [
    {
     "data": {
      "text/plain": [
       "([<matplotlib.axis.YTick at 0x2762f36b1f0>,\n",
       "  <matplotlib.axis.YTick at 0x2762f360a00>,\n",
       "  <matplotlib.axis.YTick at 0x2762f35b910>,\n",
       "  <matplotlib.axis.YTick at 0x2762f38cc70>,\n",
       "  <matplotlib.axis.YTick at 0x2762f399400>],\n",
       " [Text(0, 0, ''),\n",
       "  Text(0, 0, ''),\n",
       "  Text(0, 0, ''),\n",
       "  Text(0, 0, ''),\n",
       "  Text(0, 0, '')])"
      ]
     },
     "execution_count": 4,
     "metadata": {},
     "output_type": "execute_result"
    },
    {
     "data": {
      "image/png": "[encoded data removed]",
      "text/plain": [
       "<Figure size 432x288 with 1 Axes>"
      ]
     },
     "metadata": {
      "needs_background": "light"
     },
     "output_type": "display_data"
    }
   ],
   "source": [
    "plt.figure()\n",
    "plt.plot(n_vals, h_n_vals)\n",
    "plt.title('Figure 2 from paper')\n",
    "plt.xlabel('Number of cycles')\n",
    "plt.ylabel('Failure rate (h(n))')\n",
    "plt.ylim(0, 1e-3)\n",
    "# remove gap between axis and plot\n",
    "plt.margins(0)\n",
    "# instead of decimals on y-axis, use scientific notation\n",
    "plt.ticklabel_format(style='sci', axis='y', scilimits=(0,0))\n",
    "# y-axis intervals of 0.25e-3\n",
    "plt.yticks(np.arange(0, 1.25e-3, 0.25e-3))\n"
   ]
  },
  {
   "cell_type": "code",
   "execution_count": 5,
   "metadata": {},
   "outputs": [],
   "source": [
    "def strength_degradation(n, strength_original, mean_load, N, c): # this needs to be calculated iteratively based on n\n",
    "    delta_new = []\n",
    "    for i in range(1,n+1):\n",
    "        delta_new.append(strength_original - (strength_original-mean_load)*((i-1)/N)**c)\n",
    "    return delta_new\n",
    "\n",
    "def f_strength(strength, mean, std): # Probability density value of strength\n",
    "    return scistats.norm.pdf(strength, mean, std)\n",
    "\n",
    "def F_s_load(load, mean, std): # Probability that load will cause a failure\n",
    "    return scistats.norm.cdf(load, mean, std)\n",
    "\n",
    "\n",
    "\n",
    "def fmultF(strength, n, mean_strength, std_strength, mean_load, std_load, N, c):\n",
    "    strength_vals_n = strength_degradation(n, strength, mean_load, N, c)\n",
    "    F_s_list = F_s_load(strength_vals_n, mean_load, std_load) # A list of %s\n",
    "    F_mult = np.prod(F_s_list) # Product taken as per paper\n",
    "    return f_strength(strength, mean_strength, std_strength) * F_mult\n",
    "\n",
    "\n",
    "def fmult1multF(strength, n, mean_strength, std_strength, mean_load, std_load, N, c):\n",
    "    strength_vals_n = strength_degradation(n, strength, mean_load, N, c)\n",
    "    F_s_list = F_s_load(strength_vals_n, mean_load, std_load) # A list of %s\n",
    "    F_mult = np.prod(F_s_list) # Product taken as per paper\n",
    "    return f_strength(strength, mean_strength, std_strength)* (1-F_s_list[-1]) * F_mult\n",
    "\n",
    "\n",
    "def R_n_new(n,  mean_strength, std_strength, mean_load, std_load, N, c):\n",
    "    integral, answer = integrate.quad(fmultF, 0, mean_strength + 5 * std_strength, args=(n, mean_strength, std_strength, mean_load, std_load, N, c))\n",
    "    return integral\n",
    "\n",
    "def h_n_new(n,  mean_strength, std_strength, mean_load, std_load, N, c):\n",
    "    integral_top, answer = integrate.quad(fmult1multF, 0, mean_strength + 5 * std_strength, args=(n, mean_strength, std_strength, mean_load, std_load, N, c))\n",
    "    bot_int = R_n_new(n, mean_strength, std_strength, mean_load, std_load, N, c)\n",
    "\n",
    "    return integral_top/bot_int\n",
    "\n",
    "\n",
    "\n",
    "mu_strength = 600*10**6 # Pa = 600 MPa\n",
    "std_strength = 60*10**6 # Pa = 50 MPa\n",
    "mu_load = 400*10**6 # Pa = 400 MPa\n",
    "std_load = 40*10**6 # Pa = 40 MPa\n",
    "\n",
    "N = 15000\n",
    "c = 1.5\n",
    "\n",
    "n_vals = np.arange(1,8000,100)\n",
    "\n",
    "R_n_vals = []\n",
    "h_n_vals = []\n",
    "for n in n_vals:\n",
    "    R_n_vals.append(R_n_new(n, mu_strength, std_strength, mu_load, std_load, N, c))\n",
    "    h_n_vals.append(h_n_new(n, mu_strength, std_strength, mu_load, std_load, N, c))\n",
    "\n"
   ]
  },
  {
   "cell_type": "code",
   "execution_count": null,
   "metadata": {},
   "outputs": [],
   "source": [
    "plt.figure()\n",
    "plt.plot(n_vals, R_n_vals)\n",
    "plt.title('Figure 3 from paper')\n",
    "plt.xlabel('Number of cycles')\n",
    "plt.ylabel('Reliability (R(n))')\n",
    "plt.ylim(0.4, 1)\n",
    "# remove gap between axis and plot\n",
    "plt.margins(0)"
   ]
  },
  {
   "cell_type": "code",
   "execution_count": null,
   "metadata": {},
   "outputs": [],
   "source": [
    "plt.figure()\n",
    "plt.plot(n_vals, h_n_vals)\n",
    "plt.title('Figure 4 from paper')\n",
    "plt.xlabel('Number of cycles')\n",
    "plt.ylabel('Failure rate (h(n))')\n",
    "plt.ylim(0, 1e-3)\n",
    "# remove gap between axis and plot\n",
    "plt.margins(0)\n",
    "# instead of decimals on y-axis, use scientific notation\n",
    "plt.ticklabel_format(style='sci', axis='y', scilimits=(0,0))\n",
    "# y-axis intervals of 0.25e-3\n",
    "plt.yticks(np.arange(0, 1.25e-3, 0.25e-3))"
   ]
  },
  {
   "cell_type": "code",
   "execution_count": null,
   "metadata": {},
   "outputs": [],
   "source": []
  }
 ],
 "metadata": {
  "kernelspec": {
   "display_name": "Python 3 (ipykernel)",
   "language": "python",
   "name": "python3"
  },
  "language_info": {
   "codemirror_mode": {
    "name": "ipython",
    "version": 3
   },
   "file_extension": ".py",
   "mimetype": "text/x-python",
   "name": "python",
   "nbconvert_exporter": "python",
   "pygments_lexer": "ipython3",
   "version": "3.9.7"
  }
 },
 "nbformat": 4,
 "nbformat_minor": 2
}
